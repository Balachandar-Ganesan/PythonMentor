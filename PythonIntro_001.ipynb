{
  "nbformat": 4,
  "nbformat_minor": 0,
  "metadata": {
    "colab": {
      "provenance": []
    },
    "kernelspec": {
      "name": "python3",
      "display_name": "Python 3"
    },
    "language_info": {
      "name": "python"
    }
  },
  "cells": [
    {
      "cell_type": "code",
      "execution_count": 2,
      "metadata": {
        "colab": {
          "base_uri": "https://localhost:8080/"
        },
        "id": "XFGF4zSmtnI7",
        "outputId": "c2a60f75-f626-4412-d749-9bc77b41c676"
      },
      "outputs": [
        {
          "output_type": "stream",
          "name": "stdout",
          "text": [
            "<class 'int'>\n",
            "<class 'str'>\n",
            "<class 'float'>\n"
          ]
        }
      ],
      "source": [
        "###-1\n",
        "#Python not strongly Typed\n",
        "NoDataTypeVar =1\n",
        "print(type(NoDataTypeVar))\n",
        "NoDataTypeVar = \"String\"\n",
        "print(type(NoDataTypeVar))\n",
        "NoDataTypeVar = 3.14\n",
        "print(type(NoDataTypeVar))\n",
        "#print function for generating the output\n",
        "#type function is used for identifying the inferred data type by Python\n"
      ]
    },
    {
      "cell_type": "code",
      "source": [
        "###-2\n",
        "\n",
        "# the function statement starts with def function name and parameters followed by :\n",
        "#: colon used instead of { like other languages alignment decides where the \"code\" ends\n",
        "\n"
      ],
      "metadata": {
        "id": "HxYcdYbGuknf"
      },
      "execution_count": null,
      "outputs": []
    },
    {
      "cell_type": "code",
      "source": [
        "###-3\n",
        "\n",
        "def gcd(a,b):\n",
        "    while b!=0:\n",
        "      a,b =b, a%b\n",
        "    return a\n",
        "print(gcd(42,9))\n",
        "#beware of while loops... need to ensure the condition becomes true inside the loop at some point of time\n",
        "#align return to be in line with previous line and see difference in output"
      ],
      "metadata": {
        "colab": {
          "base_uri": "https://localhost:8080/"
        },
        "id": "o73aIe_vuz_P",
        "outputId": "f6a3e34c-24a7-4f8e-cfcc-f15f6077cd39"
      },
      "execution_count": 9,
      "outputs": [
        {
          "output_type": "stream",
          "name": "stdout",
          "text": [
            "3\n"
          ]
        }
      ]
    },
    {
      "cell_type": "code",
      "source": [
        "###-4\n",
        "\n",
        "def gcd(a,b):\n",
        "   if b == 0:  # Base case: if b is 0, a is the GCD\n",
        "        return a\n",
        "   else:  # Recursive step: call gcd with b and the remainder of a divided by b\n",
        "        return gcd(b, a % b)\n",
        "print(gcd(42,9))\n",
        "#same function implemented via recursion"
      ],
      "metadata": {
        "colab": {
          "base_uri": "https://localhost:8080/"
        },
        "id": "rgo2euqDvYBU",
        "outputId": "f34cdba7-7e1e-4375-f1bb-e4ba502bc1ac"
      },
      "execution_count": 6,
      "outputs": [
        {
          "output_type": "stream",
          "name": "stdout",
          "text": [
            "3\n"
          ]
        }
      ]
    },
    {
      "cell_type": "code",
      "source": [
        "###-5\n",
        "\n",
        "coins =[1,5,10,25]\n",
        "amount =63\n",
        "def make_change(coins,amount):\n",
        "    coins.sort(reverse=True) #Ensure High denominations come first\n",
        "    selCoins=[]\n",
        "    for coin in coins: #Highest denomination comes first in the loop\n",
        "        while amount >= coin:\n",
        "            amount -= coin #selecting the coin and decreasing the amount\n",
        "            selCoins.append(coin) #adding the selected coin to collection\n",
        "    return selCoins\n",
        "print(make_change(coins,amount))\n",
        "#What if we do not sort the data .. Try and check\n",
        "#What if there are constraints on denominations quantity like 25 can not be used more than once.. Play around\n",
        ""
      ],
      "metadata": {
        "colab": {
          "base_uri": "https://localhost:8080/"
        },
        "id": "oOFIXWwsx_pS",
        "outputId": "b38a4bdd-1387-4672-b387-6684ff547220"
      },
      "execution_count": 1,
      "outputs": [
        {
          "output_type": "stream",
          "name": "stdout",
          "text": [
            "[25, 25, 10, 1, 1, 1]\n"
          ]
        }
      ]
    },
    {
      "cell_type": "code",
      "source": [
        "###-6 Data Structure - Array\n",
        "#Create an array for the date 01/01/2000\n",
        "import array as arr\n",
        "Y2KArray=arr.array('i',[1,1,2000])\n",
        "\n",
        "#First element will be accessed via pointer 0. Because The pointer counts how many positions away from first element.\n",
        "print(Y2KArray[2])\n",
        "print(Y2KArray[1])\n",
        "print(Y2KArray[0])\n",
        "Y2KArray[2]=3000\n",
        "print(Y2KArray) # output appears as array('i', [1, 1, 3000]) because array implements __str__ method.. Such methods we can see later"
      ],
      "metadata": {
        "colab": {
          "base_uri": "https://localhost:8080/"
        },
        "id": "XqSNO5jwzn5Z",
        "outputId": "7f517f6d-834b-414d-8153-128471aaa6a9"
      },
      "execution_count": 5,
      "outputs": [
        {
          "output_type": "stream",
          "name": "stdout",
          "text": [
            "2000\n",
            "1\n",
            "1\n",
            "array('i', [1, 1, 3000])\n"
          ]
        }
      ]
    },
    {
      "cell_type": "code",
      "source": [
        "###-7 Data Structure - List\n",
        "primes = []\n",
        "primes = [2, 3, 5, 7, 11],\n",
        "print(primes)\n",
        "\n"
      ],
      "metadata": {
        "colab": {
          "base_uri": "https://localhost:8080/"
        },
        "id": "LFJk_H_E4FX2",
        "outputId": "4ebfabd8-adfc-4919-8403-bb695d2ee413"
      },
      "execution_count": 6,
      "outputs": [
        {
          "output_type": "stream",
          "name": "stdout",
          "text": [
            "[2, 3, 5, 7, 11]\n"
          ]
        }
      ]
    },
    {
      "cell_type": "code",
      "source": [
        "###-8 Data Structure - List Addition\n",
        "items = ['C', 'O', 'G']\n",
        "total_items=[]\n",
        "total_items = items + ['N', 'I','Z','A','N','T']\n",
        "print(total_items)"
      ],
      "metadata": {
        "colab": {
          "base_uri": "https://localhost:8080/"
        },
        "id": "LcHQTxPt6KpP",
        "outputId": "e9c36c0f-25cb-44f2-d771-516f400a7c6a"
      },
      "execution_count": 13,
      "outputs": [
        {
          "output_type": "stream",
          "name": "stdout",
          "text": [
            "['C', 'O', 'G', 'N', 'I', 'Z', 'A', 'N', 'T']\n"
          ]
        }
      ]
    },
    {
      "cell_type": "code",
      "source": [
        "###-9 Data Structure - List Addition add an Element\n",
        "\n",
        "total_items.append('AIA')\n",
        "total_items.append('AIA')\n",
        "print(total_items)\n",
        "total_items.remove('AIA')\n",
        "print(total_items)"
      ],
      "metadata": {
        "colab": {
          "base_uri": "https://localhost:8080/"
        },
        "id": "yEuTUOT360iS",
        "outputId": "6cbbb71f-1c13-428c-f995-f4b624cccc10"
      },
      "execution_count": 14,
      "outputs": [
        {
          "output_type": "stream",
          "name": "stdout",
          "text": [
            "['C', 'O', 'G', 'N', 'I', 'Z', 'A', 'N', 'T', 'AIA', 'AIA']\n",
            "['C', 'O', 'G', 'N', 'I', 'Z', 'A', 'N', 'T', 'AIA']\n"
          ]
        }
      ]
    },
    {
      "cell_type": "code",
      "source": [
        "###-9 Data Structure - 2D List\n",
        "MajorPlayers = [[\"Leander\", \"Paes\"], [\"Usha\", \"PT\"], [\"Abinav\", \"Bindra\"]]\n",
        "\n",
        "MajorPlayers[0][1] = \"Paes : Bronze Medal\"\n",
        "MajorPlayers[2][1] = \"Bindra : Gold Medal\"\n",
        "print(MajorPlayers)\n"
      ],
      "metadata": {
        "colab": {
          "base_uri": "https://localhost:8080/"
        },
        "id": "fPmWPXBC8x9H",
        "outputId": "76e3daf4-305a-46c2-aea4-4f9ffbadd991"
      },
      "execution_count": 18,
      "outputs": [
        {
          "output_type": "stream",
          "name": "stdout",
          "text": [
            "[['Leander', 'Paes : Bronze Medal'], ['Usha', 'PT'], ['Abinav', 'Bindra : Gold Medal']]\n"
          ]
        }
      ]
    },
    {
      "cell_type": "code",
      "source": [
        "###-9 Data Structure - Dictionary .. Column Name is called Key with the value\n",
        "student_grades = {\"LittleMaster\": \"Sachin\", \"Pigeon\": \"Glen Mcgrath\", \"Death Whispering\": \"Michael Holding\"}\n",
        "print(student_grades[\"Pigeon\"])  # Fast access by key\n",
        "#throws Value Error\n",
        "print(student_grades[\"White Lightening\"])"
      ],
      "metadata": {
        "colab": {
          "base_uri": "https://localhost:8080/",
          "height": 193
        },
        "collapsed": true,
        "id": "853koA7eGTe3",
        "outputId": "8f1e6268-27d9-4c7d-d4b8-4dbc249917e5"
      },
      "execution_count": 20,
      "outputs": [
        {
          "output_type": "stream",
          "name": "stdout",
          "text": [
            "Glen Mcgrath\n"
          ]
        },
        {
          "output_type": "error",
          "ename": "KeyError",
          "evalue": "'White Lightening'",
          "traceback": [
            "\u001b[0;31m---------------------------------------------------------------------------\u001b[0m",
            "\u001b[0;31mKeyError\u001b[0m                                  Traceback (most recent call last)",
            "\u001b[0;32m/tmp/ipython-input-20-409146339.py\u001b[0m in \u001b[0;36m<cell line: 0>\u001b[0;34m()\u001b[0m\n\u001b[1;32m      2\u001b[0m \u001b[0mstudent_grades\u001b[0m \u001b[0;34m=\u001b[0m \u001b[0;34m{\u001b[0m\u001b[0;34m\"LittleMaster\"\u001b[0m\u001b[0;34m:\u001b[0m \u001b[0;34m\"Sachin\"\u001b[0m\u001b[0;34m,\u001b[0m \u001b[0;34m\"Pigeon\"\u001b[0m\u001b[0;34m:\u001b[0m \u001b[0;34m\"Glen Mcgrath\"\u001b[0m\u001b[0;34m,\u001b[0m \u001b[0;34m\"Death Whispering\"\u001b[0m\u001b[0;34m:\u001b[0m \u001b[0;34m\"Michael Holding\"\u001b[0m\u001b[0;34m}\u001b[0m\u001b[0;34m\u001b[0m\u001b[0;34m\u001b[0m\u001b[0m\n\u001b[1;32m      3\u001b[0m \u001b[0mprint\u001b[0m\u001b[0;34m(\u001b[0m\u001b[0mstudent_grades\u001b[0m\u001b[0;34m[\u001b[0m\u001b[0;34m\"Pigeon\"\u001b[0m\u001b[0;34m]\u001b[0m\u001b[0;34m)\u001b[0m  \u001b[0;31m# Fast access by key\u001b[0m\u001b[0;34m\u001b[0m\u001b[0;34m\u001b[0m\u001b[0m\n\u001b[0;32m----> 4\u001b[0;31m \u001b[0mprint\u001b[0m\u001b[0;34m(\u001b[0m\u001b[0mstudent_grades\u001b[0m\u001b[0;34m[\u001b[0m\u001b[0;34m\"White Lightening\"\u001b[0m\u001b[0;34m]\u001b[0m\u001b[0;34m)\u001b[0m\u001b[0;34m\u001b[0m\u001b[0;34m\u001b[0m\u001b[0m\n\u001b[0m",
            "\u001b[0;31mKeyError\u001b[0m: 'White Lightening'"
          ]
        }
      ]
    },
    {
      "cell_type": "code",
      "source": [
        "###-10 Compare implementation with list with the above using dictionary\n",
        "Names = [(\"LittleMaster\", \"Sachin\"), (\"Pigeon\", \"Glen Mcgrath\"), (\"Death Whispering\", \"Michael Holding\")]\n",
        "for Name in Names:\n",
        "    if Name[0] == \"Pigeon\":\n",
        "        print(Name[1])"
      ],
      "metadata": {
        "colab": {
          "base_uri": "https://localhost:8080/"
        },
        "id": "JsoJ7LP4Hqli",
        "outputId": "34e55a32-9d9b-430f-95c3-04f94e047c4c"
      },
      "execution_count": 21,
      "outputs": [
        {
          "output_type": "stream",
          "name": "stdout",
          "text": [
            "Glen Mcgrath\n"
          ]
        }
      ]
    },
    {
      "cell_type": "code",
      "source": [
        "###-11 List Zipping and Unzipping\n",
        "names = [\"Alice\", \"Bob\", \"Charlie\"]\n",
        "ages = [25, 30, 22]\n",
        "\n",
        "# Zipping two lists\n",
        "combined_data = list(zip(names, ages))\n",
        "print(\"Combined data:\", combined_data)\n",
        "\n",
        "# Unzipping a list of tuples\n",
        "unzipped_names, unzipped_ages = zip(*combined_data)\n",
        "print(\"Unzipped names:\", unzipped_names)\n",
        "print(\"Unzipped ages:\", unzipped_ages)"
      ],
      "metadata": {
        "colab": {
          "base_uri": "https://localhost:8080/"
        },
        "id": "mUPKNXG4JD5v",
        "outputId": "cebb0f70-7db6-46a8-b7d8-728fba6000eb"
      },
      "execution_count": 22,
      "outputs": [
        {
          "output_type": "stream",
          "name": "stdout",
          "text": [
            "Combined data: [('Alice', 25), ('Bob', 30), ('Charlie', 22)]\n",
            "Unzipped names: ('Alice', 'Bob', 'Charlie')\n",
            "Unzipped ages: (25, 30, 22)\n"
          ]
        }
      ]
    },
    {
      "cell_type": "code",
      "source": [
        "###-12 List Comprehension\n",
        "\n",
        "squared_numbers = [x**2 for x in range(1, 6)]\n",
        "\n",
        "print(\"Squared numbers:\", squared_numbers)"
      ],
      "metadata": {
        "colab": {
          "base_uri": "https://localhost:8080/"
        },
        "id": "u4pVpyLcJi6P",
        "outputId": "b4c55c5b-f661-4f0c-e541-cea7a4e32074"
      },
      "execution_count": 23,
      "outputs": [
        {
          "output_type": "stream",
          "name": "stdout",
          "text": [
            "Squared numbers: [1, 4, 9, 16, 25]\n"
          ]
        }
      ]
    },
    {
      "cell_type": "code",
      "source": [
        "###-13 Dictionary Application\n",
        "text =\"Don’t count the days. Make the days count\"\n",
        "words = text.lower().split()\n",
        "\n",
        "word_counts = {}  # Initialize an empty dictionary\n",
        "for word in words:\n",
        "        if word in word_counts:\n",
        "            word_counts[word] += 1\n",
        "        else:\n",
        "            word_counts[word] = 1\n",
        "print(word_counts)"
      ],
      "metadata": {
        "colab": {
          "base_uri": "https://localhost:8080/"
        },
        "id": "iB3a-W6FKsqJ",
        "outputId": "f67e1f64-f4ef-4768-8f01-ec412d1405e3"
      },
      "execution_count": 24,
      "outputs": [
        {
          "output_type": "stream",
          "name": "stdout",
          "text": [
            "{'don’t': 1, 'count': 2, 'the': 2, 'days.': 1, 'make': 1, 'days': 1}\n"
          ]
        }
      ]
    },
    {
      "cell_type": "code",
      "source": [
        "###-13 Reverse Engineer Infix to PostFix (a+b)*c  to  abc*+ ... This is a Class Room Exercise\n",
        "def infix_to_postfix(infix_expression):\n",
        "    precedence = {'+': 1, '-': 1, '*': 2, '/': 2, '^': 3}\n",
        "    operator_stack = []\n",
        "    postfix_output = []\n",
        "\n",
        "    for char in infix_expression:\n",
        "        if 'a' <= char <= 'z' or 'A' <= char <= 'Z' or '0' <= char <= '9':\n",
        "            postfix_output.append(char)\n",
        "        elif char == '(':\n",
        "            operator_stack.append(char)\n",
        "        elif char == ')':\n",
        "            while operator_stack and operator_stack[-1] != '(':\n",
        "                postfix_output.append(operator_stack.pop())\n",
        "            if operator_stack and operator_stack[-1] == '(':\n",
        "                operator_stack.pop()  # Discard '('\n",
        "            else:\n",
        "                raise ValueError(\"Mismatched parentheses\")\n",
        "        elif char in precedence:\n",
        "            while (operator_stack and operator_stack[-1] != '(' and\n",
        "                   precedence.get(operator_stack[-1], 0) >= precedence[char]):\n",
        "                postfix_output.append(operator_stack.pop())\n",
        "            operator_stack.append(char)\n",
        "        # Handle other characters (like spaces) if necessary, or raise error for invalid characters\n",
        "\n",
        "    while operator_stack:\n",
        "        if operator_stack[-1] == '(':\n",
        "            raise ValueError(\"Mismatched parentheses\")\n",
        "        postfix_output.append(operator_stack.pop())\n",
        "\n",
        "    return \"\".join(postfix_output)\n",
        "\n",
        "# Example usage:\n",
        "infix_expr = \"a+b*c\"\n",
        "postfix_expr = infix_to_postfix(infix_expr)\n",
        "print(f\"Infix: {infix_expr}\")\n",
        "print(f\"Postfix: {postfix_expr}\")"
      ],
      "metadata": {
        "colab": {
          "base_uri": "https://localhost:8080/"
        },
        "id": "Tmr5TMF_NuWX",
        "outputId": "ad45bfd1-13fb-4f21-f17b-636005a83b18"
      },
      "execution_count": 26,
      "outputs": [
        {
          "output_type": "stream",
          "name": "stdout",
          "text": [
            "Infix: a+b*c\n",
            "Postfix: abc*+\n"
          ]
        }
      ]
    },
    {
      "cell_type": "code",
      "source": [
        "###-13 While Loop... repeat till true.. Careful Else infinite loop and StackOverFlow\n",
        "count = 5\n",
        "\n",
        "while count > 0:\n",
        "    print(f\"Countdown: {count}\")\n",
        "    count -= 1\n",
        "print(count)"
      ],
      "metadata": {
        "colab": {
          "base_uri": "https://localhost:8080/"
        },
        "id": "SJKG_3eOQRcz",
        "outputId": "5a4799f0-e0e6-450d-9fbe-ca59271ada3b"
      },
      "execution_count": 27,
      "outputs": [
        {
          "output_type": "stream",
          "name": "stdout",
          "text": [
            "Countdown: 5\n",
            "Countdown: 4\n",
            "Countdown: 3\n",
            "Countdown: 2\n",
            "Countdown: 1\n",
            "0\n"
          ]
        }
      ]
    },
    {
      "cell_type": "code",
      "source": [
        "###-13 While Loop... repeat till break\n",
        "while True:\n",
        "    name = input(\"Enter your name (or type 'exit' to quit): \")\n",
        "    if name == \"exit\":\n",
        "        print(\"Goodbye!\")\n",
        "        break\n",
        "    print(f\"Hello, {name}!\")"
      ],
      "metadata": {
        "colab": {
          "base_uri": "https://localhost:8080/"
        },
        "id": "_gwckDnxQmOo",
        "outputId": "0cbc40f3-80a2-49a7-b9d4-2b866fcdb988"
      },
      "execution_count": 28,
      "outputs": [
        {
          "output_type": "stream",
          "name": "stdout",
          "text": [
            "Enter your name (or type 'exit' to quit): Balachandar\n",
            "Hello, Balachandar!\n",
            "Enter your name (or type 'exit' to quit): Ganesan\n",
            "Hello, Ganesan!\n",
            "Enter your name (or type 'exit' to quit): exit\n",
            "Goodbye!\n"
          ]
        }
      ]
    },
    {
      "cell_type": "code",
      "source": [
        "###-13 While Loop... skip step with continue\n",
        "num = 0\n",
        "\n",
        "while num < 10:\n",
        "    num += 1\n",
        "    if num % 2 == 0:\n",
        "        continue  #go to while loop again\n",
        "    print(f\"Odd number: {num}\")"
      ],
      "metadata": {
        "colab": {
          "base_uri": "https://localhost:8080/"
        },
        "id": "9Z-7vpnURCTf",
        "outputId": "9b2986c2-fc97-4cc2-8ada-2ed8dd61cd2f"
      },
      "execution_count": 29,
      "outputs": [
        {
          "output_type": "stream",
          "name": "stdout",
          "text": [
            "Odd number: 1\n",
            "Odd number: 3\n",
            "Odd number: 5\n",
            "Odd number: 7\n",
            "Odd number: 9\n"
          ]
        }
      ]
    },
    {
      "cell_type": "code",
      "source": [
        "###-14 if\n",
        "strAboutMe=\"Batsman\"\n",
        "if strAboutMe == \"Batsman\":\n",
        "    print(\"I am a Batsman\")\n"
      ],
      "metadata": {
        "colab": {
          "base_uri": "https://localhost:8080/"
        },
        "id": "kShAHDHWTBxy",
        "outputId": "553c870f-6c2b-4ed5-812f-ad7a308d0bf3"
      },
      "execution_count": 30,
      "outputs": [
        {
          "output_type": "stream",
          "name": "stdout",
          "text": [
            "I am a Batsman\n"
          ]
        }
      ]
    },
    {
      "cell_type": "code",
      "source": [
        "###-15 if  Else\n",
        "strAboutMe=\"Bowler\" #replace Bowler with Fielder and run one more time\n",
        "if strAboutMe == \"Batsman\":\n",
        "    print(\"I am a Batsman\")\n",
        "else:\n",
        "   if strAboutMe == \"Bowler\":\n",
        "    print(\"I am a Bowler\")\n",
        "   else:\n",
        "    print(\"Who am I\")"
      ],
      "metadata": {
        "colab": {
          "base_uri": "https://localhost:8080/"
        },
        "id": "YdmkMCTLTSnw",
        "outputId": "eac92e8b-5675-44d6-c41d-4b19e881d9f4"
      },
      "execution_count": 33,
      "outputs": [
        {
          "output_type": "stream",
          "name": "stdout",
          "text": [
            "I am a Bowler\n"
          ]
        }
      ]
    },
    {
      "cell_type": "code",
      "source": [
        "###-16 if else elif\n",
        "#elif is nothing but else: if seen above\n",
        "strAboutMe=\"Akash Raj\" #replace Bowler with Fielder and run one more time\n",
        "if strAboutMe == \"Batsman\":\n",
        "    print(\"I am a Batsman\")\n",
        "elif strAboutMe == \"Bowler\":\n",
        "    print(\"I am a Bowler\")\n",
        "elif strAboutMe == \"Fielder\":\n",
        "    print(\"I am a Fielder\")\n",
        "elif strAboutMe == \"All-Rounder\":\n",
        "    print(\"I am a All-Rounder\")\n",
        "elif strAboutMe == \"Wicket Keeper\":\n",
        "    print(\"I am a Wicket Keeper\")\n",
        "elif strAboutMe == \"Captain\":\n",
        "    print(\"I am a Captain\")\n",
        "elif strAboutMe == \"Vice-Captain\":\n",
        "    print(\"I am a Vice-Captain\")\n",
        "else:\n",
        "    print(\"Who am I\")"
      ],
      "metadata": {
        "colab": {
          "base_uri": "https://localhost:8080/"
        },
        "id": "puZewle2TzNq",
        "outputId": "65ef459a-575c-4950-ee02-e279db0a9a5b"
      },
      "execution_count": 36,
      "outputs": [
        {
          "output_type": "stream",
          "name": "stdout",
          "text": [
            "Who am I\n"
          ]
        }
      ]
    },
    {
      "cell_type": "code",
      "source": [
        "#17 Can you moduralize above example .. Reference below\n",
        "def green_function(color):\n",
        "    # Execute some code, for example print the color + number \"1\"\n",
        "    print(f\"{color} 1\")\n",
        "def blue_function(color):\n",
        "    # Execute some code, for example print the color + number \"1\"\n",
        "    print(f\"{color} 1\")\n",
        "def red_function(color):\n",
        "    # Execute some code, for example print the color + number \"1\"\n",
        "    print(f\"{color} 1\")\n",
        "def pink_function(color):\n",
        "    # Execute some code, for example print the color + number \"1\"\n",
        "    print(f\"{color} 1\")\n",
        "\n",
        "colors_dict = {\n",
        "    \"green\": green_function,\n",
        "    \"blue\": blue_function,\n",
        "    \"red\": red_function,\n",
        "    \"pink\": pink_function,\n",
        "}\n",
        "\n",
        "user_input = input(\"\")\n",
        "colors_dict.get(user_input)(user_input)"
      ],
      "metadata": {
        "colab": {
          "base_uri": "https://localhost:8080/"
        },
        "id": "jAMFqx5UU_4P",
        "outputId": "3663a4fc-e8bc-470c-d422-0f2a2f1e11c9"
      },
      "execution_count": 37,
      "outputs": [
        {
          "output_type": "stream",
          "name": "stdout",
          "text": [
            "red\n",
            "red 1\n"
          ]
        }
      ]
    },
    {
      "cell_type": "code",
      "source": [
        "#18 Mutable\n",
        "name = \"Jim\"\n",
        "student = name\n",
        "name = \"Tim\"\n",
        "print(student)  # Jim (immutable)\n",
        "\n",
        "scores = [\"A\", \"B\"]\n",
        "grades = scores\n",
        "scores[1] = \"C\"\n",
        "print(grades)  # ['A', 'C'] (mutable)"
      ],
      "metadata": {
        "colab": {
          "base_uri": "https://localhost:8080/"
        },
        "id": "IMwVWQBzZG7-",
        "outputId": "94daf2de-5d5f-48da-f45e-a6b0b5606cf7"
      },
      "execution_count": 38,
      "outputs": [
        {
          "output_type": "stream",
          "name": "stdout",
          "text": [
            "Jim\n",
            "['A', 'C']\n"
          ]
        }
      ]
    },
    {
      "cell_type": "code",
      "source": [
        "#19 Sets ..Set is Set in Set Theory\n",
        "citrusfruit:set = {\"oranges\", \"lemons\", \"limes\", \"satsumas\", \"nectarines\"}\n",
        "treefruit:set = {\"apples\", \"pears\", \"cherries\", \"plums\", \"peaches\", \"plums\", \"cherries\", \"oranges\", \"lemons\", \"limes\"}\n",
        "stonefruit:set = {\"cherries\", \"plums\", \"peaches\", \"nectarines\"}\n",
        "\n",
        "#tree fruit with stones\n",
        "print(treefruit.intersection(stonefruit))\n",
        "\n",
        "#tree fruit which are citrus\n",
        "print(treefruit.intersection(citrusfruit))\n",
        "\n",
        "#citrus fruit with stones\n",
        "print(citrusfruit.intersection(stonefruit))\n",
        "\n",
        "#all stone and all tree fruits\n",
        "print(stonefruit.union(treefruit))\n",
        "\n",
        "#all fruit except citrus fruit\n",
        "print(stonefruit.union(treefruit).difference(citrusfruit))\n",
        "\n"
      ],
      "metadata": {
        "colab": {
          "base_uri": "https://localhost:8080/"
        },
        "id": "DAWpl3Bs4grr",
        "outputId": "e2527628-e609-4a6d-864e-15a16e7dcdcd"
      },
      "execution_count": 1,
      "outputs": [
        {
          "output_type": "stream",
          "name": "stdout",
          "text": [
            "{'plums', 'cherries', 'peaches'}\n",
            "{'lemons', 'limes', 'oranges'}\n",
            "{'nectarines'}\n",
            "{'peaches', 'oranges', 'apples', 'pears', 'limes', 'plums', 'lemons', 'cherries', 'nectarines'}\n",
            "{'peaches', 'apples', 'plums', 'pears', 'cherries'}\n"
          ]
        }
      ]
    },
    {
      "cell_type": "code",
      "source": [
        "#19 Tuple.. Data post initialization can not be modified\n",
        "geolocation = (3.00727, 80.20371)\n",
        "print(f\"Latitude: {geolocation[0]} Longitude: {geolocation[1]}\")\n"
      ],
      "metadata": {
        "colab": {
          "base_uri": "https://localhost:8080/"
        },
        "id": "2AtC8CM343YY",
        "outputId": "d7bda549-40bc-4d81-a8fc-a4eb4878e823"
      },
      "execution_count": 3,
      "outputs": [
        {
          "output_type": "stream",
          "name": "stdout",
          "text": [
            "Latitude: 3.00727 Longitude: 80.20371\n"
          ]
        }
      ]
    },
    {
      "cell_type": "code",
      "source": [
        "#19 Tuple.. Data post initialization can not be modified\n",
        "geolocation[0] = 50.0000"
      ],
      "metadata": {
        "colab": {
          "base_uri": "https://localhost:8080/",
          "height": 158
        },
        "id": "aHjqOOTE5iG5",
        "outputId": "4ff83467-29f0-4734-b78b-40edb326aa5a"
      },
      "execution_count": 4,
      "outputs": [
        {
          "output_type": "error",
          "ename": "TypeError",
          "evalue": "'tuple' object does not support item assignment",
          "traceback": [
            "\u001b[0;31m---------------------------------------------------------------------------\u001b[0m",
            "\u001b[0;31mTypeError\u001b[0m                                 Traceback (most recent call last)",
            "\u001b[0;32m/tmp/ipython-input-4-1594390336.py\u001b[0m in \u001b[0;36m<cell line: 0>\u001b[0;34m()\u001b[0m\n\u001b[1;32m      1\u001b[0m \u001b[0;31m#19 Tuple.. Data post initialization can not be modified\u001b[0m\u001b[0;34m\u001b[0m\u001b[0;34m\u001b[0m\u001b[0m\n\u001b[0;32m----> 2\u001b[0;31m \u001b[0mgeolocation\u001b[0m\u001b[0;34m[\u001b[0m\u001b[0;36m0\u001b[0m\u001b[0;34m]\u001b[0m \u001b[0;34m=\u001b[0m \u001b[0;36m50.0000\u001b[0m\u001b[0;34m\u001b[0m\u001b[0;34m\u001b[0m\u001b[0m\n\u001b[0m",
            "\u001b[0;31mTypeError\u001b[0m: 'tuple' object does not support item assignment"
          ]
        }
      ]
    },
    {
      "cell_type": "code",
      "source": [
        "#19 Tuple.. Data post initialization can not be modified\n",
        "import collections\n",
        "\n",
        "geolocation = collections.namedtuple(\"geolocation\", [\"latitude\", \"longitude\"])\n",
        "KathiparaFlyover = geolocation(48.858093, 2.294694)\n",
        "\n",
        "print(KathiparaFlyover.latitude)\n",
        "print(KathiparaFlyover.longitude)"
      ],
      "metadata": {
        "colab": {
          "base_uri": "https://localhost:8080/"
        },
        "id": "ddC3cdI_5m1d",
        "outputId": "ccd86f29-c67f-4196-ac1e-2f0fbb087294"
      },
      "execution_count": 5,
      "outputs": [
        {
          "output_type": "stream",
          "name": "stdout",
          "text": [
            "48.858093\n",
            "2.294694\n"
          ]
        }
      ]
    },
    {
      "cell_type": "code",
      "source": [
        "#21 Higher Order Function\n",
        "#function with in function... intEnterNumber simply gathers the number defined with in start\n",
        "def start(lstStudentsFullList):\n",
        "    def intEnterNumber():\n",
        "        intNumber=int(input(\"Enter Number Of Students\"))\n",
        "        return intNumber\n",
        "    intNoOfStudents = intEnterNumber()\n",
        "    lstStudents=lstStudentsFullList\n",
        "\n",
        "    for intCounter in range(intNoOfStudents):\n",
        "        strName=input(\"Enter Name of Student\")\n",
        "        lstStudents.append(strName)\n",
        "    strContinue =input(\"Do You Want to Continue Y/N ?\")\n",
        "    if(strContinue==\"Y\"):\n",
        "            start(lstStudents)\n",
        "    else:\n",
        "        return lstStudents\n",
        "    return lstStudents\n",
        "\n",
        "lstStudents=[]\n",
        "start(lstStudents)\n",
        "print(lstStudents)"
      ],
      "metadata": {
        "colab": {
          "base_uri": "https://localhost:8080/"
        },
        "id": "yckbQhoZ8UBU",
        "outputId": "00b35cb8-f6e2-4afc-d8df-736fbd72ad4f"
      },
      "execution_count": 8,
      "outputs": [
        {
          "output_type": "stream",
          "name": "stdout",
          "text": [
            "Enter Number Of Students2\n",
            "Enter Name of StudentStudent1\n",
            "Enter Name of StudentStudent2\n",
            "Do You Want to Continue Y/N ?Y\n",
            "Enter Number Of Students1\n",
            "Enter Name of StudentStudent3\n",
            "Do You Want to Continue Y/N ?N\n",
            "['Student1', 'Student2', 'Student3']\n"
          ]
        }
      ]
    },
    {
      "cell_type": "code",
      "source": [
        "#21 Decorators\n",
        "def add(x, y):\n",
        "\n",
        "    return x + y\n",
        "def multiply(x, y,z):\n",
        "\n",
        "    return x * y*z\n",
        "print(add(4,5))\n",
        "print(multiply(4,5,6))\n"
      ],
      "metadata": {
        "colab": {
          "base_uri": "https://localhost:8080/"
        },
        "id": "Em1lRdjh7Ulv",
        "outputId": "2aa8f576-3144-42ec-a95b-63e4e5d08242"
      },
      "execution_count": 6,
      "outputs": [
        {
          "output_type": "stream",
          "name": "stdout",
          "text": [
            "Function add called with 4 and 5\n",
            "9\n",
            "Function multiply called with 4 and 5\n",
            "120\n"
          ]
        }
      ]
    },
    {
      "cell_type": "code",
      "source": [
        "#21 Decorators\n",
        "def log_args(func):\n",
        "    def wrapper(*args, **kwargs):\n",
        "        print(f\"{func.__name__} called with {args} and {kwargs}\") #please watch out the double underscore!!!!...Python has plenty of them\n",
        "        return func(*args, **kwargs)\n",
        "    return wrapper\n",
        "@log_args\n",
        "def add(x, y):\n",
        "\n",
        "    return x + y\n",
        "@log_args\n",
        "def multiply(x, y,z):\n",
        "\n",
        "    return x * y*z\n",
        "print(add(4,5))\n",
        "print(multiply(4,5,6))"
      ],
      "metadata": {
        "colab": {
          "base_uri": "https://localhost:8080/"
        },
        "id": "FBPU0DpL71kN",
        "outputId": "9ec5fb57-df80-4919-e9f8-149d9cd4d899"
      },
      "execution_count": 7,
      "outputs": [
        {
          "output_type": "stream",
          "name": "stdout",
          "text": [
            "add called with (4, 5) and {}\n",
            "9\n",
            "multiply called with (4, 5, 6) and {}\n",
            "120\n"
          ]
        }
      ]
    },
    {
      "cell_type": "code",
      "source": [
        "#21 Lambda Functions .. Puzzle requires practice\n",
        "# function name = lambda arguments: expression\n",
        "lambdaadd = lambda x, y: x + y\n",
        "print(lambdaadd(5, 3))"
      ],
      "metadata": {
        "colab": {
          "base_uri": "https://localhost:8080/"
        },
        "id": "A-4k3UT4-SXk",
        "outputId": "b54d3709-4b81-4f60-c3a2-db6bfbae505b"
      },
      "execution_count": 9,
      "outputs": [
        {
          "output_type": "stream",
          "name": "stdout",
          "text": [
            "8\n"
          ]
        }
      ]
    },
    {
      "cell_type": "code",
      "source": [
        "#21 Lambda Function\n",
        "# Traditional approach to generate squares\n",
        "squares = []\n",
        "for x in range(1, 6):\n",
        "    squares.append(x * x)\n",
        "print(squares)  # Output: [1, 4, 9, 16, 25]\n",
        "\n",
        "# Using list comprehension for the same task\n",
        "squares = [x * x for x in range(1, 6)]\n",
        "print(squares)  # Output: [1, 4, 9, 16, 25]"
      ],
      "metadata": {
        "colab": {
          "base_uri": "https://localhost:8080/"
        },
        "id": "Q86LclxM_twI",
        "outputId": "311b7f84-3910-4c2e-9098-c62db3ff0bc2"
      },
      "execution_count": 13,
      "outputs": [
        {
          "output_type": "stream",
          "name": "stdout",
          "text": [
            "[1, 4, 9, 16, 25]\n",
            "[1, 4, 9, 16, 25]\n"
          ]
        }
      ]
    },
    {
      "cell_type": "code",
      "source": [
        "#21 Lambda Function\n",
        "square = lambda x: x * x\n",
        "print(square(5))  # Output: 25"
      ],
      "metadata": {
        "colab": {
          "base_uri": "https://localhost:8080/"
        },
        "id": "MnmzVnFI_7ge",
        "outputId": "9fe97cbe-405c-4bfe-c367-df40023a949f"
      },
      "execution_count": 14,
      "outputs": [
        {
          "output_type": "stream",
          "name": "stdout",
          "text": [
            "25\n"
          ]
        }
      ]
    },
    {
      "cell_type": "code",
      "source": [
        "# Using list comprehension with lambda function to generate squares\n",
        "squares = [(lambda x: x * x)(x) for x in range(1, 6)]\n",
        "print(squares)  # Output: [1, 4, 9, 16, 25]"
      ],
      "metadata": {
        "colab": {
          "base_uri": "https://localhost:8080/"
        },
        "id": "m3kEZI4JADDh",
        "outputId": "6883b607-5402-4639-a743-323e11d5b383"
      },
      "execution_count": 15,
      "outputs": [
        {
          "output_type": "stream",
          "name": "stdout",
          "text": [
            "[1, 4, 9, 16, 25]\n"
          ]
        }
      ]
    },
    {
      "cell_type": "code",
      "source": [
        "#21 Lambda Functions\n",
        "people = [\n",
        "    ('A', 25),\n",
        "    ('B', 30),\n",
        "    ('C', 20)\n",
        "]\n",
        "\n",
        "# Sort by age\n",
        "sorted_people = sorted(people, key=lambda person: person[1])\n",
        "print(sorted_people)\n",
        "# Output: [('Cutie', 20), ('Arsh', 25), ('Balli', 30)]"
      ],
      "metadata": {
        "colab": {
          "base_uri": "https://localhost:8080/"
        },
        "id": "uoxuBtrJAIcP",
        "outputId": "ca3fa6e7-2b5c-4eab-f6ba-8238897e4cde"
      },
      "execution_count": 16,
      "outputs": [
        {
          "output_type": "stream",
          "name": "stdout",
          "text": [
            "[('C', 20), ('A', 25), ('B', 30)]\n"
          ]
        }
      ]
    },
    {
      "cell_type": "code",
      "source": [
        "#21 Lambda Functions\n",
        "num = [1, 2, 3, 4, 5, 6]\n",
        "# We want to keep only even numbers\n",
        "evens = list(filter(lambda x: x % 2 == 0, num))\n",
        "print(evens)\n",
        "# Output: [2, 4, 6]"
      ],
      "metadata": {
        "colab": {
          "base_uri": "https://localhost:8080/"
        },
        "id": "xaEB4_VqAQI7",
        "outputId": "09af786f-cd83-4885-8462-7954b9fb52ad"
      },
      "execution_count": 17,
      "outputs": [
        {
          "output_type": "stream",
          "name": "stdout",
          "text": [
            "[2, 4, 6]\n"
          ]
        }
      ]
    },
    {
      "cell_type": "code",
      "source": [
        "#22 Dunder Methods\n",
        "class TransactionHistory:\n",
        "    def __init__(self, transactions):\n",
        "        self.transactions = transactions\n",
        "        self.index = 0\n",
        "\n",
        "history = TransactionHistory([\"Deposit $100\", \"Withdraw $50\", \"Deposit $200\"])\n",
        "for transaction in history:\n",
        "    print(transaction)"
      ],
      "metadata": {
        "colab": {
          "base_uri": "https://localhost:8080/",
          "height": 193
        },
        "id": "mfP8fviYJYdU",
        "outputId": "e52eb1ef-078c-4095-c139-0aaa69d7c598"
      },
      "execution_count": 18,
      "outputs": [
        {
          "output_type": "error",
          "ename": "TypeError",
          "evalue": "'TransactionHistory' object is not iterable",
          "traceback": [
            "\u001b[0;31m---------------------------------------------------------------------------\u001b[0m",
            "\u001b[0;31mTypeError\u001b[0m                                 Traceback (most recent call last)",
            "\u001b[0;32m/tmp/ipython-input-18-2719360256.py\u001b[0m in \u001b[0;36m<cell line: 0>\u001b[0;34m()\u001b[0m\n\u001b[1;32m      6\u001b[0m \u001b[0;34m\u001b[0m\u001b[0m\n\u001b[1;32m      7\u001b[0m \u001b[0mhistory\u001b[0m \u001b[0;34m=\u001b[0m \u001b[0mTransactionHistory\u001b[0m\u001b[0;34m(\u001b[0m\u001b[0;34m[\u001b[0m\u001b[0;34m\"Deposit $100\"\u001b[0m\u001b[0;34m,\u001b[0m \u001b[0;34m\"Withdraw $50\"\u001b[0m\u001b[0;34m,\u001b[0m \u001b[0;34m\"Deposit $200\"\u001b[0m\u001b[0;34m]\u001b[0m\u001b[0;34m)\u001b[0m\u001b[0;34m\u001b[0m\u001b[0;34m\u001b[0m\u001b[0m\n\u001b[0;32m----> 8\u001b[0;31m \u001b[0;32mfor\u001b[0m \u001b[0mtransaction\u001b[0m \u001b[0;32min\u001b[0m \u001b[0mhistory\u001b[0m\u001b[0;34m:\u001b[0m\u001b[0;34m\u001b[0m\u001b[0;34m\u001b[0m\u001b[0m\n\u001b[0m\u001b[1;32m      9\u001b[0m     \u001b[0mprint\u001b[0m\u001b[0;34m(\u001b[0m\u001b[0mtransaction\u001b[0m\u001b[0;34m)\u001b[0m\u001b[0;34m\u001b[0m\u001b[0;34m\u001b[0m\u001b[0m\n",
            "\u001b[0;31mTypeError\u001b[0m: 'TransactionHistory' object is not iterable"
          ]
        }
      ]
    },
    {
      "cell_type": "code",
      "source": [
        "#22 Dunder Methods __iter ,__next\n",
        "class TransactionHistory:\n",
        "    def __init__(self, transactions):\n",
        "        self.transactions = transactions\n",
        "        self.index = 0\n",
        "\n",
        "    def __iter__(self):\n",
        "        return self\n",
        "\n",
        "    def __next__(self):\n",
        "        if self.index >= len(self.transactions):\n",
        "            raise StopIteration\n",
        "        transaction = self.transactions[self.index]\n",
        "        self.index += 1\n",
        "        return transaction\n",
        "    def __str__(self) :\n",
        "      intCounter=0\n",
        "      strMessage=\"\"\n",
        "      for transaction in self.transactions:\n",
        "        intCounter=intCounter+1\n",
        "        strMessage=strMessage+\"transaction\" + str(intCounter) + \" \" +transaction +\";\"\n",
        "      return strMessage\n",
        "\n",
        "\n",
        "\n",
        "history = TransactionHistory([\"Deposit $100\", \"Withdraw $50\", \"Deposit $200\"])\n",
        "for transaction in history:\n",
        "    print(transaction)\n",
        "print(history)"
      ],
      "metadata": {
        "colab": {
          "base_uri": "https://localhost:8080/"
        },
        "id": "toGIWsBsJ2Do",
        "outputId": "2435cf10-2bac-4e48-9f59-2e28f28b20e2"
      },
      "execution_count": 26,
      "outputs": [
        {
          "output_type": "stream",
          "name": "stdout",
          "text": [
            "Deposit $100\n",
            "Withdraw $50\n",
            "Deposit $200\n",
            "transaction1 Deposit $100;transaction2 Withdraw $50;transaction3 Deposit $200;\n"
          ]
        }
      ]
    }
  ]
}